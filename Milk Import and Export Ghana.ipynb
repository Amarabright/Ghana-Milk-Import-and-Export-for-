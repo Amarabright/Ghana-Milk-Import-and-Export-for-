{
 "cells": [
  {
   "cell_type": "markdown",
   "id": "65228d78",
   "metadata": {},
   "source": [
    "\n",
    "# Exploring Ghana's Milk Import and Export for Jan-May,2019\n",
    "\n",
    "A country's economy depends, sometimes heavily, on its exports and imports. The United Nations Comtrade database provides data on global trade. It will be used to analyse the Ghana's imports and exports of milk and cream in January to May 2019:\n",
    "\n",
    "1. How much does the Ghana export and import and is the balance positive (more exports than imports)?\n",
    "2. Which are the main trading partners, i.e. from/to which countries does the Ghana import/export the most?\n",
    "3. Which are the regular customers, i.e. which countries buy milk from Ghana every month?\n",
    "4. Which countries does Ghana both import from and export to?"
   ]
  },
  {
   "cell_type": "code",
   "execution_count": 1,
   "id": "395868aa",
   "metadata": {},
   "outputs": [],
   "source": [
    "import warnings\n",
    "warnings.simplefilter('ignore', FutureWarning)\n",
    "\n",
    "from pandas import *\n",
    "%matplotlib inline"
   ]
  },
  {
   "cell_type": "markdown",
   "id": "5a0a7c10",
   "metadata": {},
   "source": [
    "# Getting and preparing the data\n",
    "\n",
    "The data is obtained from the United Nations Comtrade website, by selecting the following configuration:\n",
    "\n",
    "    Type of Product: goods\n",
    "    Frequency: monthly\n",
    "    Periods: January to May of 2019\n",
    "    Reporter: Ghana\n",
    "    Partners: all\n",
    "    Flows: imports and exports\n",
    "    HS (as reported) commodity codes: 0401 (Milk and cream, neither concentrated nor sweetened) and 0402 (Milk and cream, concentrated or sweetened)"
   ]
  },
  {
   "cell_type": "code",
   "execution_count": 2,
   "id": "1a3d060f",
   "metadata": {},
   "outputs": [],
   "source": [
    "LOCATION = 'Comtrade_milk_ghana.csv'"
   ]
  },
  {
   "cell_type": "markdown",
   "id": "3a8415ff",
   "metadata": {},
   "source": [
    "On reading in the data, the commodity code has to be read as a string, to not lose the leading zero"
   ]
  },
  {
   "cell_type": "code",
   "execution_count": 7,
   "id": "e3eeb962",
   "metadata": {},
   "outputs": [
    {
     "data": {
      "text/html": [
       "<div>\n",
       "<style scoped>\n",
       "    .dataframe tbody tr th:only-of-type {\n",
       "        vertical-align: middle;\n",
       "    }\n",
       "\n",
       "    .dataframe tbody tr th {\n",
       "        vertical-align: top;\n",
       "    }\n",
       "\n",
       "    .dataframe thead th {\n",
       "        text-align: right;\n",
       "    }\n",
       "</style>\n",
       "<table border=\"1\" class=\"dataframe\">\n",
       "  <thead>\n",
       "    <tr style=\"text-align: right;\">\n",
       "      <th></th>\n",
       "      <th>Classification</th>\n",
       "      <th>Year</th>\n",
       "      <th>Period</th>\n",
       "      <th>Period Desc.</th>\n",
       "      <th>Aggregate Level</th>\n",
       "      <th>Is Leaf Code</th>\n",
       "      <th>Trade Flow Code</th>\n",
       "      <th>Trade Flow</th>\n",
       "      <th>Reporter Code</th>\n",
       "      <th>Reporter</th>\n",
       "      <th>...</th>\n",
       "      <th>Qty</th>\n",
       "      <th>Alt Qty Unit Code</th>\n",
       "      <th>Alt Qty Unit</th>\n",
       "      <th>Alt Qty</th>\n",
       "      <th>Netweight (kg)</th>\n",
       "      <th>Gross weight (kg)</th>\n",
       "      <th>Trade Value (US$)</th>\n",
       "      <th>CIF Trade Value (US$)</th>\n",
       "      <th>FOB Trade Value (US$)</th>\n",
       "      <th>Flag</th>\n",
       "    </tr>\n",
       "  </thead>\n",
       "  <tbody>\n",
       "    <tr>\n",
       "      <th>235</th>\n",
       "      <td>HS</td>\n",
       "      <td>2019</td>\n",
       "      <td>201902</td>\n",
       "      <td>February 2019</td>\n",
       "      <td>4</td>\n",
       "      <td>0</td>\n",
       "      <td>2</td>\n",
       "      <td>Exports</td>\n",
       "      <td>288</td>\n",
       "      <td>Ghana</td>\n",
       "      <td>...</td>\n",
       "      <td>NaN</td>\n",
       "      <td>NaN</td>\n",
       "      <td>NaN</td>\n",
       "      <td>NaN</td>\n",
       "      <td>23811</td>\n",
       "      <td>NaN</td>\n",
       "      <td>132646</td>\n",
       "      <td>NaN</td>\n",
       "      <td>NaN</td>\n",
       "      <td>0</td>\n",
       "    </tr>\n",
       "    <tr>\n",
       "      <th>236</th>\n",
       "      <td>HS</td>\n",
       "      <td>2019</td>\n",
       "      <td>201905</td>\n",
       "      <td>May 2019</td>\n",
       "      <td>4</td>\n",
       "      <td>0</td>\n",
       "      <td>1</td>\n",
       "      <td>Imports</td>\n",
       "      <td>288</td>\n",
       "      <td>Ghana</td>\n",
       "      <td>...</td>\n",
       "      <td>NaN</td>\n",
       "      <td>NaN</td>\n",
       "      <td>NaN</td>\n",
       "      <td>NaN</td>\n",
       "      <td>96754</td>\n",
       "      <td>NaN</td>\n",
       "      <td>118768</td>\n",
       "      <td>NaN</td>\n",
       "      <td>NaN</td>\n",
       "      <td>0</td>\n",
       "    </tr>\n",
       "  </tbody>\n",
       "</table>\n",
       "<p>2 rows × 35 columns</p>\n",
       "</div>"
      ],
      "text/plain": [
       "    Classification  Year  Period   Period Desc.  Aggregate Level  \\\n",
       "235             HS  2019  201902  February 2019                4   \n",
       "236             HS  2019  201905       May 2019                4   \n",
       "\n",
       "     Is Leaf Code  Trade Flow Code Trade Flow  Reporter Code Reporter  ...  \\\n",
       "235             0                2    Exports            288    Ghana  ...   \n",
       "236             0                1    Imports            288    Ghana  ...   \n",
       "\n",
       "     Qty  Alt Qty Unit Code Alt Qty Unit  Alt Qty  Netweight (kg)  \\\n",
       "235  NaN                NaN          NaN      NaN           23811   \n",
       "236  NaN                NaN          NaN      NaN           96754   \n",
       "\n",
       "     Gross weight (kg)  Trade Value (US$)  CIF Trade Value (US$)  \\\n",
       "235                NaN             132646                    NaN   \n",
       "236                NaN             118768                    NaN   \n",
       "\n",
       "     FOB Trade Value (US$)  Flag  \n",
       "235                    NaN     0  \n",
       "236                    NaN     0  \n",
       "\n",
       "[2 rows x 35 columns]"
      ]
     },
     "execution_count": 7,
     "metadata": {},
     "output_type": "execute_result"
    }
   ],
   "source": [
    "import pandas as pd\n",
    "milk = pd.read_csv(LOCATION, dtype={'Commodity Code':str})\n",
    "milk.tail(2)"
   ]
  },
  {
   "cell_type": "markdown",
   "id": "e9146fae",
   "metadata": {},
   "source": [
    "The data only covers the first five months of 2019. Most columns are irrelevant for this analysis, or contain always the same value, like the year and reporter columns. The commodity code is transformed into a short but descriptive text and only the relevant columns are selected."
   ]
  },
  {
   "cell_type": "code",
   "execution_count": 8,
   "id": "61c699d1",
   "metadata": {},
   "outputs": [
    {
     "data": {
      "text/html": [
       "<div>\n",
       "<style scoped>\n",
       "    .dataframe tbody tr th:only-of-type {\n",
       "        vertical-align: middle;\n",
       "    }\n",
       "\n",
       "    .dataframe tbody tr th {\n",
       "        vertical-align: top;\n",
       "    }\n",
       "\n",
       "    .dataframe thead th {\n",
       "        text-align: right;\n",
       "    }\n",
       "</style>\n",
       "<table border=\"1\" class=\"dataframe\">\n",
       "  <thead>\n",
       "    <tr style=\"text-align: right;\">\n",
       "      <th></th>\n",
       "      <th>Period</th>\n",
       "      <th>Partner</th>\n",
       "      <th>Trade Flow</th>\n",
       "      <th>Milk and cream</th>\n",
       "      <th>Trade Value (US$)</th>\n",
       "    </tr>\n",
       "  </thead>\n",
       "  <tbody>\n",
       "    <tr>\n",
       "      <th>0</th>\n",
       "      <td>201901</td>\n",
       "      <td>World</td>\n",
       "      <td>Imports</td>\n",
       "      <td>unknown</td>\n",
       "      <td>348023</td>\n",
       "    </tr>\n",
       "    <tr>\n",
       "      <th>1</th>\n",
       "      <td>201901</td>\n",
       "      <td>World</td>\n",
       "      <td>Exports</td>\n",
       "      <td>unknown</td>\n",
       "      <td>12</td>\n",
       "    </tr>\n",
       "    <tr>\n",
       "      <th>2</th>\n",
       "      <td>201901</td>\n",
       "      <td>Australia</td>\n",
       "      <td>Imports</td>\n",
       "      <td>unknown</td>\n",
       "      <td>38</td>\n",
       "    </tr>\n",
       "    <tr>\n",
       "      <th>3</th>\n",
       "      <td>201901</td>\n",
       "      <td>Belgium</td>\n",
       "      <td>Imports</td>\n",
       "      <td>unknown</td>\n",
       "      <td>91978</td>\n",
       "    </tr>\n",
       "    <tr>\n",
       "      <th>4</th>\n",
       "      <td>201901</td>\n",
       "      <td>Canada</td>\n",
       "      <td>Imports</td>\n",
       "      <td>unknown</td>\n",
       "      <td>56</td>\n",
       "    </tr>\n",
       "  </tbody>\n",
       "</table>\n",
       "</div>"
      ],
      "text/plain": [
       "   Period    Partner Trade Flow Milk and cream  Trade Value (US$)\n",
       "0  201901      World    Imports        unknown             348023\n",
       "1  201901      World    Exports        unknown                 12\n",
       "2  201901  Australia    Imports        unknown                 38\n",
       "3  201901    Belgium    Imports        unknown              91978\n",
       "4  201901     Canada    Imports        unknown                 56"
      ]
     },
     "execution_count": 8,
     "metadata": {},
     "output_type": "execute_result"
    }
   ],
   "source": [
    "def milkType(code):\n",
    "    if code == '401': # neither concentrated nor sweetened\n",
    "        return 'unprocessed'\n",
    "    if code == '402': # concentrated or sweetened\n",
    "        return 'processed' \n",
    "    return 'unknown'\n",
    "\n",
    "COMMODITY = 'Milk and cream'\n",
    "milk[COMMODITY] = milk['Commodity Code'].apply(milkType)\n",
    "MONTH = 'Period'\n",
    "PARTNER = 'Partner'\n",
    "FLOW = 'Trade Flow'\n",
    "VALUE = 'Trade Value (US$)'\n",
    "headings = [MONTH, PARTNER, FLOW, COMMODITY, VALUE]\n",
    "milk = milk[headings]\n",
    "milk.head()"
   ]
  },
  {
   "cell_type": "markdown",
   "id": "0ce416ce",
   "metadata": {},
   "source": [
    "The data contains the total imports and exports per month, under the 'World' partner. Those rows are removed to keep only the per-country data."
   ]
  },
  {
   "cell_type": "code",
   "execution_count": 9,
   "id": "8694e85c",
   "metadata": {},
   "outputs": [
    {
     "data": {
      "text/html": [
       "<div>\n",
       "<style scoped>\n",
       "    .dataframe tbody tr th:only-of-type {\n",
       "        vertical-align: middle;\n",
       "    }\n",
       "\n",
       "    .dataframe tbody tr th {\n",
       "        vertical-align: top;\n",
       "    }\n",
       "\n",
       "    .dataframe thead th {\n",
       "        text-align: right;\n",
       "    }\n",
       "</style>\n",
       "<table border=\"1\" class=\"dataframe\">\n",
       "  <thead>\n",
       "    <tr style=\"text-align: right;\">\n",
       "      <th></th>\n",
       "      <th>Period</th>\n",
       "      <th>Partner</th>\n",
       "      <th>Trade Flow</th>\n",
       "      <th>Milk and cream</th>\n",
       "      <th>Trade Value (US$)</th>\n",
       "    </tr>\n",
       "  </thead>\n",
       "  <tbody>\n",
       "    <tr>\n",
       "      <th>2</th>\n",
       "      <td>201901</td>\n",
       "      <td>Australia</td>\n",
       "      <td>Imports</td>\n",
       "      <td>unknown</td>\n",
       "      <td>38</td>\n",
       "    </tr>\n",
       "    <tr>\n",
       "      <th>3</th>\n",
       "      <td>201901</td>\n",
       "      <td>Belgium</td>\n",
       "      <td>Imports</td>\n",
       "      <td>unknown</td>\n",
       "      <td>91978</td>\n",
       "    </tr>\n",
       "    <tr>\n",
       "      <th>4</th>\n",
       "      <td>201901</td>\n",
       "      <td>Canada</td>\n",
       "      <td>Imports</td>\n",
       "      <td>unknown</td>\n",
       "      <td>56</td>\n",
       "    </tr>\n",
       "    <tr>\n",
       "      <th>5</th>\n",
       "      <td>201901</td>\n",
       "      <td>Costa Rica</td>\n",
       "      <td>Exports</td>\n",
       "      <td>unknown</td>\n",
       "      <td>12</td>\n",
       "    </tr>\n",
       "    <tr>\n",
       "      <th>6</th>\n",
       "      <td>201901</td>\n",
       "      <td>France</td>\n",
       "      <td>Imports</td>\n",
       "      <td>unknown</td>\n",
       "      <td>112426</td>\n",
       "    </tr>\n",
       "  </tbody>\n",
       "</table>\n",
       "</div>"
      ],
      "text/plain": [
       "   Period     Partner Trade Flow Milk and cream  Trade Value (US$)\n",
       "2  201901   Australia    Imports        unknown                 38\n",
       "3  201901     Belgium    Imports        unknown              91978\n",
       "4  201901      Canada    Imports        unknown                 56\n",
       "5  201901  Costa Rica    Exports        unknown                 12\n",
       "6  201901      France    Imports        unknown             112426"
      ]
     },
     "execution_count": 9,
     "metadata": {},
     "output_type": "execute_result"
    }
   ],
   "source": [
    "milk = milk[milk[PARTNER] != 'World']\n",
    "milk.head()"
   ]
  },
  {
   "cell_type": "code",
   "execution_count": 10,
   "id": "fe1ece85",
   "metadata": {},
   "outputs": [
    {
     "data": {
      "text/html": [
       "<div>\n",
       "<style scoped>\n",
       "    .dataframe tbody tr th:only-of-type {\n",
       "        vertical-align: middle;\n",
       "    }\n",
       "\n",
       "    .dataframe tbody tr th {\n",
       "        vertical-align: top;\n",
       "    }\n",
       "\n",
       "    .dataframe thead th {\n",
       "        text-align: right;\n",
       "    }\n",
       "</style>\n",
       "<table border=\"1\" class=\"dataframe\">\n",
       "  <thead>\n",
       "    <tr style=\"text-align: right;\">\n",
       "      <th></th>\n",
       "      <th>Period</th>\n",
       "      <th>Partner</th>\n",
       "      <th>Trade Flow</th>\n",
       "      <th>Milk and cream</th>\n",
       "      <th>Trade Value (US$)</th>\n",
       "    </tr>\n",
       "  </thead>\n",
       "  <tbody>\n",
       "    <tr>\n",
       "      <th>232</th>\n",
       "      <td>201902</td>\n",
       "      <td>Côte d'Ivoire</td>\n",
       "      <td>Exports</td>\n",
       "      <td>unknown</td>\n",
       "      <td>75596</td>\n",
       "    </tr>\n",
       "    <tr>\n",
       "      <th>233</th>\n",
       "      <td>201902</td>\n",
       "      <td>Japan</td>\n",
       "      <td>Exports</td>\n",
       "      <td>unknown</td>\n",
       "      <td>50</td>\n",
       "    </tr>\n",
       "    <tr>\n",
       "      <th>234</th>\n",
       "      <td>201902</td>\n",
       "      <td>Liberia</td>\n",
       "      <td>Exports</td>\n",
       "      <td>unknown</td>\n",
       "      <td>104789</td>\n",
       "    </tr>\n",
       "    <tr>\n",
       "      <th>235</th>\n",
       "      <td>201902</td>\n",
       "      <td>Burkina Faso</td>\n",
       "      <td>Exports</td>\n",
       "      <td>unknown</td>\n",
       "      <td>132646</td>\n",
       "    </tr>\n",
       "    <tr>\n",
       "      <th>236</th>\n",
       "      <td>201905</td>\n",
       "      <td>France</td>\n",
       "      <td>Imports</td>\n",
       "      <td>unknown</td>\n",
       "      <td>118768</td>\n",
       "    </tr>\n",
       "  </tbody>\n",
       "</table>\n",
       "</div>"
      ],
      "text/plain": [
       "     Period        Partner Trade Flow Milk and cream  Trade Value (US$)\n",
       "232  201902  Côte d'Ivoire    Exports        unknown              75596\n",
       "233  201902          Japan    Exports        unknown                 50\n",
       "234  201902        Liberia    Exports        unknown             104789\n",
       "235  201902   Burkina Faso    Exports        unknown             132646\n",
       "236  201905         France    Imports        unknown             118768"
      ]
     },
     "execution_count": 10,
     "metadata": {},
     "output_type": "execute_result"
    }
   ],
   "source": [
    "milk.tail()"
   ]
  },
  {
   "cell_type": "markdown",
   "id": "e2a2e4b4",
   "metadata": {},
   "source": [
    "# Total trade flow\n",
    "\n",
    "To answer question 1, 'how much does Ghana export and import and is the balance positive (more exports than imports)?',\n",
    "\n",
    "The dataframe is split into two groups: exports from the Uganda and imports into the Uganda. \n",
    "The trade values within each group are summed up to get the total trading."
   ]
  },
  {
   "cell_type": "code",
   "execution_count": 11,
   "id": "28411192",
   "metadata": {},
   "outputs": [
    {
     "data": {
      "text/plain": [
       "Trade Flow\n",
       "Exports     4584691\n",
       "Imports    29410329\n",
       "Name: Trade Value (US$), dtype: int64"
      ]
     },
     "execution_count": 11,
     "metadata": {},
     "output_type": "execute_result"
    }
   ],
   "source": [
    "grouped = milk.groupby([FLOW])\n",
    "grouped[VALUE].aggregate(sum)"
   ]
  },
  {
   "cell_type": "code",
   "execution_count": null,
   "id": "5cba87b2",
   "metadata": {},
   "outputs": [],
   "source": [
    "This shows a Trade Deficit of over 24 million USD. Hence, it is a negative balance, where the imports are more than the exports."
   ]
  },
  {
   "cell_type": "markdown",
   "id": "a5aca5fa",
   "metadata": {},
   "source": [
    "# Main trade partners\n",
    "\n",
    "To address question 2, 'Which are the main trading partners, i.e. from/to which countries does the Ghana import/export the most?', \n",
    "\n",
    "The dataframe is split by country instead, and then each group aggregated for the total trade value. \n",
    "This is done separately for imports and exports. \n",
    "The result is sorted in descending order so that the main partners are at the top.\n",
    "\n"
   ]
  },
  {
   "cell_type": "code",
   "execution_count": 13,
   "id": "a975ed8e",
   "metadata": {},
   "outputs": [
    {
     "name": "stdout",
     "output_type": "stream",
     "text": [
      "Ghana imports from 50 countries.\n",
      "The 5 biggest exporters to Ghana are:\n"
     ]
    },
    {
     "data": {
      "text/plain": [
       "Partner\n",
       "Nigeria        5115393\n",
       "New Zealand    4804116\n",
       "Ireland        2778598\n",
       "Poland         2640685\n",
       "Belgium        2053128\n",
       "Name: Trade Value (US$), dtype: int64"
      ]
     },
     "execution_count": 13,
     "metadata": {},
     "output_type": "execute_result"
    }
   ],
   "source": [
    "imports = milk[milk[FLOW] == 'Imports']\n",
    "grouped = imports.groupby([PARTNER])\n",
    "print('Ghana imports from', len(grouped), 'countries.')\n",
    "print('The 5 biggest exporters to Ghana are:')\n",
    "totalImports = grouped[VALUE].aggregate(sum).sort_values(inplace=False,ascending=False)\n",
    "totalImports.head()"
   ]
  },
  {
   "cell_type": "markdown",
   "id": "e4234add",
   "metadata": {},
   "source": [
    "The values will be plotted as a bar chart, making the differences between countries much easier to visualise"
   ]
  },
  {
   "cell_type": "code",
   "execution_count": 15,
   "id": "7e7a0ee4",
   "metadata": {},
   "outputs": [
    {
     "data": {
      "text/plain": [
       "<AxesSubplot:ylabel='Partner'>"
      ]
     },
     "execution_count": 15,
     "metadata": {},
     "output_type": "execute_result"
    },
    {
     "data": {
      "image/png": "[encoded data removed]",
      "text/plain": [
       "<Figure size 432x288 with 1 Axes>"
      ]
     },
     "metadata": {
      "needs_background": "light"
     },
     "output_type": "display_data"
    }
   ],
   "source": [
    "totalImports.head(12).plot(kind='barh')"
   ]
  },
  {
   "cell_type": "code",
   "execution_count": 19,
   "id": "b890e613",
   "metadata": {},
   "outputs": [
    {
     "name": "stdout",
     "output_type": "stream",
     "text": [
      "Ghana exports to 11 countries.\n",
      "The 5 biggest importers from Ghana are:\n"
     ]
    },
    {
     "data": {
      "text/plain": [
       "Partner\n",
       "Senegal          2199237\n",
       "Burkina Faso     1539342\n",
       "Côte d'Ivoire     408982\n",
       "Mali              225800\n",
       "Liberia           171349\n",
       "Name: Trade Value (US$), dtype: int64"
      ]
     },
     "execution_count": 19,
     "metadata": {},
     "output_type": "execute_result"
    }
   ],
   "source": [
    "exports = milk[milk[FLOW] == 'Exports']\n",
    "grouped = exports.groupby([PARTNER])\n",
    "print('Ghana exports to', len(grouped), 'countries.')\n",
    "print('The 5 biggest importers from Ghana are:')\n",
    "totalExports = grouped[VALUE].aggregate(sum).sort_values(inplace=False,ascending=False)\n",
    "totalExports.head()"
   ]
  },
  {
   "cell_type": "markdown",
   "id": "74d6dd9a",
   "metadata": {},
   "source": [
    "The values will be plotted as a bar chart, making differences between countries easier to visualise"
   ]
  },
  {
   "cell_type": "code",
   "execution_count": 21,
   "id": "0deba003",
   "metadata": {},
   "outputs": [
    {
     "data": {
      "text/plain": [
       "<AxesSubplot:ylabel='Partner'>"
      ]
     },
     "execution_count": 21,
     "metadata": {},
     "output_type": "execute_result"
    },
    {
     "data": {
      "image/png": "[encoded data removed]",
      "text/plain": [
       "<Figure size 432x288 with 1 Axes>"
      ]
     },
     "metadata": {
      "needs_background": "light"
     },
     "output_type": "display_data"
    }
   ],
   "source": [
    "totalExports.head(5).plot(kind='barh')"
   ]
  },
  {
   "cell_type": "markdown",
   "id": "d59c9240",
   "metadata": {},
   "source": [
    "# Regular importers\n",
    "\n",
    "Given that there are two commodities, question 3, \n",
    "\n",
    "'Which are the regular customers, i.e. which countries buy milk from Ghana every month?', is meant in the sense that a regular customer imports both commodities every month. This means that if the exports dataframe is grouped by country, each group has exactly ten rows (two commodities bought each of the five months). To see the countries, only the first month of one commodity has to be listed, as by definition it's the same countries every month and for the other commodity."
   ]
  },
  {
   "cell_type": "code",
   "execution_count": 22,
   "id": "86c679a6",
   "metadata": {},
   "outputs": [
    {
     "data": {
      "text/html": [
       "<div>\n",
       "<style scoped>\n",
       "    .dataframe tbody tr th:only-of-type {\n",
       "        vertical-align: middle;\n",
       "    }\n",
       "\n",
       "    .dataframe tbody tr th {\n",
       "        vertical-align: top;\n",
       "    }\n",
       "\n",
       "    .dataframe thead th {\n",
       "        text-align: right;\n",
       "    }\n",
       "</style>\n",
       "<table border=\"1\" class=\"dataframe\">\n",
       "  <thead>\n",
       "    <tr style=\"text-align: right;\">\n",
       "      <th></th>\n",
       "      <th>Period</th>\n",
       "      <th>Partner</th>\n",
       "      <th>Trade Flow</th>\n",
       "      <th>Milk and cream</th>\n",
       "      <th>Trade Value (US$)</th>\n",
       "    </tr>\n",
       "  </thead>\n",
       "  <tbody>\n",
       "  </tbody>\n",
       "</table>\n",
       "</div>"
      ],
      "text/plain": [
       "Empty DataFrame\n",
       "Columns: [Period, Partner, Trade Flow, Milk and cream, Trade Value (US$)]\n",
       "Index: []"
      ]
     },
     "execution_count": 22,
     "metadata": {},
     "output_type": "execute_result"
    }
   ],
   "source": [
    "def buysEveryMonth(group):\n",
    "    return len(group) == 10\n",
    "\n",
    "grouped = exports.groupby([PARTNER])\n",
    "regular = grouped.filter(buysEveryMonth)\n",
    "regular[(regular[MONTH] == 201501) & (regular[COMMODITY] == 'processed')]"
   ]
  },
  {
   "cell_type": "code",
   "execution_count": 23,
   "id": "f95124b2",
   "metadata": {},
   "outputs": [
    {
     "data": {
      "text/plain": [
       "0.0"
      ]
     },
     "execution_count": 23,
     "metadata": {},
     "output_type": "execute_result"
    }
   ],
   "source": [
    "regular[VALUE].sum() / exports[VALUE].sum()"
   ]
  },
  {
   "cell_type": "code",
   "execution_count": null,
   "id": "294dee8a",
   "metadata": {},
   "outputs": [],
   "source": []
  },
  {
   "cell_type": "markdown",
   "id": "c3f9edc7",
   "metadata": {},
   "source": [
    "# Bi-directional trade\n",
    "\n",
    "To address question 4, 'Which countries does the Ghana both import from and export to?', a pivot table is used to list the total export and import value for each country."
   ]
  },
  {
   "cell_type": "code",
   "execution_count": 24,
   "id": "3b7e11ef",
   "metadata": {},
   "outputs": [
    {
     "data": {
      "text/html": [
       "<div>\n",
       "<style scoped>\n",
       "    .dataframe tbody tr th:only-of-type {\n",
       "        vertical-align: middle;\n",
       "    }\n",
       "\n",
       "    .dataframe tbody tr th {\n",
       "        vertical-align: top;\n",
       "    }\n",
       "\n",
       "    .dataframe thead th {\n",
       "        text-align: right;\n",
       "    }\n",
       "</style>\n",
       "<table border=\"1\" class=\"dataframe\">\n",
       "  <thead>\n",
       "    <tr style=\"text-align: right;\">\n",
       "      <th>Trade Flow</th>\n",
       "      <th>Exports</th>\n",
       "      <th>Imports</th>\n",
       "    </tr>\n",
       "    <tr>\n",
       "      <th>Partner</th>\n",
       "      <th></th>\n",
       "      <th></th>\n",
       "    </tr>\n",
       "  </thead>\n",
       "  <tbody>\n",
       "    <tr>\n",
       "      <th>American Samoa</th>\n",
       "      <td>NaN</td>\n",
       "      <td>13.0</td>\n",
       "    </tr>\n",
       "    <tr>\n",
       "      <th>Australia</th>\n",
       "      <td>NaN</td>\n",
       "      <td>524.0</td>\n",
       "    </tr>\n",
       "    <tr>\n",
       "      <th>Austria</th>\n",
       "      <td>NaN</td>\n",
       "      <td>78.0</td>\n",
       "    </tr>\n",
       "    <tr>\n",
       "      <th>Belgium</th>\n",
       "      <td>NaN</td>\n",
       "      <td>2053128.0</td>\n",
       "    </tr>\n",
       "    <tr>\n",
       "      <th>Burkina Faso</th>\n",
       "      <td>1539342.0</td>\n",
       "      <td>28.0</td>\n",
       "    </tr>\n",
       "  </tbody>\n",
       "</table>\n",
       "</div>"
      ],
      "text/plain": [
       "Trade Flow        Exports    Imports\n",
       "Partner                             \n",
       "American Samoa        NaN       13.0\n",
       "Australia             NaN      524.0\n",
       "Austria               NaN       78.0\n",
       "Belgium               NaN  2053128.0\n",
       "Burkina Faso    1539342.0       28.0"
      ]
     },
     "execution_count": 24,
     "metadata": {},
     "output_type": "execute_result"
    }
   ],
   "source": [
    "countries = pivot_table(milk, index=[PARTNER], columns=[FLOW], \n",
    "                        values=VALUE, aggfunc=sum)\n",
    "countries.head()"
   ]
  },
  {
   "cell_type": "markdown",
   "id": "a51759cb",
   "metadata": {},
   "source": [
    "Removing the rows with a missing value will result in only those countries with bi-directional trade flow with the UK."
   ]
  },
  {
   "cell_type": "code",
   "execution_count": 25,
   "id": "c8ab553e",
   "metadata": {},
   "outputs": [
    {
     "data": {
      "text/html": [
       "<div>\n",
       "<style scoped>\n",
       "    .dataframe tbody tr th:only-of-type {\n",
       "        vertical-align: middle;\n",
       "    }\n",
       "\n",
       "    .dataframe tbody tr th {\n",
       "        vertical-align: top;\n",
       "    }\n",
       "\n",
       "    .dataframe thead th {\n",
       "        text-align: right;\n",
       "    }\n",
       "</style>\n",
       "<table border=\"1\" class=\"dataframe\">\n",
       "  <thead>\n",
       "    <tr style=\"text-align: right;\">\n",
       "      <th>Trade Flow</th>\n",
       "      <th>Exports</th>\n",
       "      <th>Imports</th>\n",
       "    </tr>\n",
       "    <tr>\n",
       "      <th>Partner</th>\n",
       "      <th></th>\n",
       "      <th></th>\n",
       "    </tr>\n",
       "  </thead>\n",
       "  <tbody>\n",
       "    <tr>\n",
       "      <th>Burkina Faso</th>\n",
       "      <td>1539342.0</td>\n",
       "      <td>28.0</td>\n",
       "    </tr>\n",
       "    <tr>\n",
       "      <th>Côte d'Ivoire</th>\n",
       "      <td>408982.0</td>\n",
       "      <td>2204.0</td>\n",
       "    </tr>\n",
       "    <tr>\n",
       "      <th>Japan</th>\n",
       "      <td>94.0</td>\n",
       "      <td>24.0</td>\n",
       "    </tr>\n",
       "    <tr>\n",
       "      <th>Liberia</th>\n",
       "      <td>171349.0</td>\n",
       "      <td>26.0</td>\n",
       "    </tr>\n",
       "    <tr>\n",
       "      <th>Senegal</th>\n",
       "      <td>2199237.0</td>\n",
       "      <td>338.0</td>\n",
       "    </tr>\n",
       "    <tr>\n",
       "      <th>South Africa</th>\n",
       "      <td>131.0</td>\n",
       "      <td>20203.0</td>\n",
       "    </tr>\n",
       "    <tr>\n",
       "      <th>United Kingdom</th>\n",
       "      <td>1446.0</td>\n",
       "      <td>750016.0</td>\n",
       "    </tr>\n",
       "    <tr>\n",
       "      <th>United States of America</th>\n",
       "      <td>2467.0</td>\n",
       "      <td>1188281.0</td>\n",
       "    </tr>\n",
       "  </tbody>\n",
       "</table>\n",
       "</div>"
      ],
      "text/plain": [
       "Trade Flow                  Exports    Imports\n",
       "Partner                                       \n",
       "Burkina Faso              1539342.0       28.0\n",
       "Côte d'Ivoire              408982.0     2204.0\n",
       "Japan                          94.0       24.0\n",
       "Liberia                    171349.0       26.0\n",
       "Senegal                   2199237.0      338.0\n",
       "South Africa                  131.0    20203.0\n",
       "United Kingdom               1446.0   750016.0\n",
       "United States of America     2467.0  1188281.0"
      ]
     },
     "execution_count": 25,
     "metadata": {},
     "output_type": "execute_result"
    }
   ],
   "source": [
    "countries.dropna()"
   ]
  },
  {
   "cell_type": "markdown",
   "id": "5aa15bb8",
   "metadata": {},
   "source": [
    "The milk and cream trade of Ghana from January to May 2019 was analysed in terms of which countries that Ghana mostly depends on for income (exports) and goods (imports). Over the period, Ghana  had a trade deficit of over 24 million US dollars. Which was for the fact that the imports were more than the exports.\n",
    "\n",
    "Nigeria is the main partner in the sense that it imported from Nigeria about 5 million USD. Followed by New Zealand and then Ireland.\n",
    "Ghana exported to only 11 countries during the period, but then imported from 50 countries, the main ones (top five by trade value) being geographically close. Nigeria is the main exporter to Ghana and then Ghana doesnt export to them.\n",
    "\n",
    "Ghana do not have regular customers, they do not have regular countries that buy all types of milk and cream every month. \n",
    "\n",
    "Ghana has bi-directional trade (i.e. both exports and imports) with 8 countries, although for some the trade value (in US dollars) is suspiciously low, which raises questions about the data's accuracy."
   ]
  },
  {
   "cell_type": "code",
   "execution_count": null,
   "id": "5fd207ea",
   "metadata": {},
   "outputs": [],
   "source": []
  }
 ],
 "metadata": {
  "kernelspec": {
   "display_name": "Python 3",
   "language": "python",
   "name": "python3"
  },
  "language_info": {
   "codemirror_mode": {
    "name": "ipython",
    "version": 3
   },
   "file_extension": ".py",
   "mimetype": "text/x-python",
   "name": "python",
   "nbconvert_exporter": "python",
   "pygments_lexer": "ipython3",
   "version": "3.8.8"
  }
 },
 "nbformat": 4,
 "nbformat_minor": 5
}
